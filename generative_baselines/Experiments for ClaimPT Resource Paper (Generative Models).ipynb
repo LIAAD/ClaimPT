{
 "cells": [
  {
   "cell_type": "markdown",
   "source": [],
   "metadata": {
    "id": "uobDF8qTYkDQ"
   }
  },
  {
   "cell_type": "markdown",
   "source": [
    "# Experiments for ClaimPT Resource Paper (generative)"
   ],
   "metadata": {
    "collapsed": false
   }
  },
  {
   "cell_type": "markdown",
   "source": [
    "## Install LangExtract and others"
   ],
   "metadata": {
    "id": "pO6w_WKvajy7"
   }
  },
  {
   "cell_type": "code",
   "source": [
    "!pip install langextract\n",
    "!pip install spacy\n",
    "!pip install dkpro-cassis\n",
    "!python -m spacy download pt_core_news_sm\n"
   ],
   "metadata": {
    "colab": {
     "base_uri": "https://localhost:8080/"
    },
    "id": "N5mfllc-ajBM",
    "executionInfo": {
     "status": "ok",
     "timestamp": 1758712219214,
     "user_tz": -60,
     "elapsed": 10229,
     "user": {
      "displayName": "Nuno Guimarães",
      "userId": "16888259959418070017"
     }
    },
    "outputId": "ce005937-865d-413e-f076-2ceb02f528f6",
    "ExecuteTime": {
     "end_time": "2025-09-24T14:58:51.298538454Z",
     "start_time": "2025-09-24T14:58:49.985676311Z"
    }
   },
   "execution_count": 3,
   "outputs": [
    {
     "name": "stdout",
     "output_type": "stream",
     "text": [
      "Requirement already satisfied: langextract in /home/nguimaraes/repositories/semeval2025_paperexp/venv/lib/python3.10/site-packages (1.0.9)\r\n",
      "Requirement already satisfied: absl-py>=1.0.0 in /home/nguimaraes/repositories/semeval2025_paperexp/venv/lib/python3.10/site-packages (from langextract) (2.3.1)\r\n",
      "Requirement already satisfied: aiohttp>=3.8.0 in /home/nguimaraes/repositories/semeval2025_paperexp/venv/lib/python3.10/site-packages (from langextract) (3.12.15)\r\n",
      "Requirement already satisfied: async_timeout>=4.0.0 in /home/nguimaraes/repositories/semeval2025_paperexp/venv/lib/python3.10/site-packages (from langextract) (5.0.1)\r\n",
      "Requirement already satisfied: exceptiongroup>=1.1.0 in /home/nguimaraes/repositories/semeval2025_paperexp/venv/lib/python3.10/site-packages (from langextract) (1.2.2)\r\n",
      "Requirement already satisfied: google-genai>=0.1.0 in /home/nguimaraes/repositories/semeval2025_paperexp/venv/lib/python3.10/site-packages (from langextract) (1.38.0)\r\n",
      "Requirement already satisfied: ml-collections>=0.1.0 in /home/nguimaraes/repositories/semeval2025_paperexp/venv/lib/python3.10/site-packages (from langextract) (1.1.0)\r\n",
      "Requirement already satisfied: more-itertools>=8.0.0 in /home/nguimaraes/repositories/semeval2025_paperexp/venv/lib/python3.10/site-packages (from langextract) (10.8.0)\r\n",
      "Requirement already satisfied: numpy>=1.20.0 in /home/nguimaraes/repositories/semeval2025_paperexp/venv/lib/python3.10/site-packages (from langextract) (2.2.1)\r\n",
      "Requirement already satisfied: pandas>=1.3.0 in /home/nguimaraes/repositories/semeval2025_paperexp/venv/lib/python3.10/site-packages (from langextract) (2.3.2)\r\n",
      "Requirement already satisfied: pydantic>=1.8.0 in /home/nguimaraes/repositories/semeval2025_paperexp/venv/lib/python3.10/site-packages (from langextract) (2.11.9)\r\n",
      "Requirement already satisfied: python-dotenv>=0.19.0 in /home/nguimaraes/repositories/semeval2025_paperexp/venv/lib/python3.10/site-packages (from langextract) (1.1.1)\r\n",
      "Requirement already satisfied: PyYAML>=6.0 in /home/nguimaraes/repositories/semeval2025_paperexp/venv/lib/python3.10/site-packages (from langextract) (6.0.2)\r\n",
      "Requirement already satisfied: requests>=2.25.0 in /home/nguimaraes/repositories/semeval2025_paperexp/venv/lib/python3.10/site-packages (from langextract) (2.32.3)\r\n",
      "Requirement already satisfied: tqdm>=4.64.0 in /home/nguimaraes/repositories/semeval2025_paperexp/venv/lib/python3.10/site-packages (from langextract) (4.67.1)\r\n",
      "Requirement already satisfied: typing-extensions>=4.0.0 in /home/nguimaraes/repositories/semeval2025_paperexp/venv/lib/python3.10/site-packages (from langextract) (4.12.2)\r\n",
      "Requirement already satisfied: aiohappyeyeballs>=2.5.0 in /home/nguimaraes/repositories/semeval2025_paperexp/venv/lib/python3.10/site-packages (from aiohttp>=3.8.0->langextract) (2.6.1)\r\n",
      "Requirement already satisfied: aiosignal>=1.4.0 in /home/nguimaraes/repositories/semeval2025_paperexp/venv/lib/python3.10/site-packages (from aiohttp>=3.8.0->langextract) (1.4.0)\r\n",
      "Requirement already satisfied: attrs>=17.3.0 in /home/nguimaraes/repositories/semeval2025_paperexp/venv/lib/python3.10/site-packages (from aiohttp>=3.8.0->langextract) (24.3.0)\r\n",
      "Requirement already satisfied: frozenlist>=1.1.1 in /home/nguimaraes/repositories/semeval2025_paperexp/venv/lib/python3.10/site-packages (from aiohttp>=3.8.0->langextract) (1.7.0)\r\n",
      "Requirement already satisfied: multidict<7.0,>=4.5 in /home/nguimaraes/repositories/semeval2025_paperexp/venv/lib/python3.10/site-packages (from aiohttp>=3.8.0->langextract) (6.6.4)\r\n",
      "Requirement already satisfied: propcache>=0.2.0 in /home/nguimaraes/repositories/semeval2025_paperexp/venv/lib/python3.10/site-packages (from aiohttp>=3.8.0->langextract) (0.3.2)\r\n",
      "Requirement already satisfied: yarl<2.0,>=1.17.0 in /home/nguimaraes/repositories/semeval2025_paperexp/venv/lib/python3.10/site-packages (from aiohttp>=3.8.0->langextract) (1.20.1)\r\n",
      "Requirement already satisfied: anyio<5.0.0,>=4.8.0 in /home/nguimaraes/repositories/semeval2025_paperexp/venv/lib/python3.10/site-packages (from google-genai>=0.1.0->langextract) (4.8.0)\r\n",
      "Requirement already satisfied: google-auth<3.0.0,>=2.14.1 in /home/nguimaraes/repositories/semeval2025_paperexp/venv/lib/python3.10/site-packages (from google-genai>=0.1.0->langextract) (2.40.3)\r\n",
      "Requirement already satisfied: httpx<1.0.0,>=0.28.1 in /home/nguimaraes/repositories/semeval2025_paperexp/venv/lib/python3.10/site-packages (from google-genai>=0.1.0->langextract) (0.28.1)\r\n",
      "Requirement already satisfied: tenacity<9.2.0,>=8.2.3 in /home/nguimaraes/repositories/semeval2025_paperexp/venv/lib/python3.10/site-packages (from google-genai>=0.1.0->langextract) (9.1.2)\r\n",
      "Requirement already satisfied: websockets<15.1.0,>=13.0.0 in /home/nguimaraes/repositories/semeval2025_paperexp/venv/lib/python3.10/site-packages (from google-genai>=0.1.0->langextract) (15.0.1)\r\n",
      "Requirement already satisfied: python-dateutil>=2.8.2 in /home/nguimaraes/repositories/semeval2025_paperexp/venv/lib/python3.10/site-packages (from pandas>=1.3.0->langextract) (2.9.0.post0)\r\n",
      "Requirement already satisfied: pytz>=2020.1 in /home/nguimaraes/repositories/semeval2025_paperexp/venv/lib/python3.10/site-packages (from pandas>=1.3.0->langextract) (2025.2)\r\n",
      "Requirement already satisfied: tzdata>=2022.7 in /home/nguimaraes/repositories/semeval2025_paperexp/venv/lib/python3.10/site-packages (from pandas>=1.3.0->langextract) (2025.2)\r\n",
      "Requirement already satisfied: annotated-types>=0.6.0 in /home/nguimaraes/repositories/semeval2025_paperexp/venv/lib/python3.10/site-packages (from pydantic>=1.8.0->langextract) (0.7.0)\r\n",
      "Requirement already satisfied: pydantic-core==2.33.2 in /home/nguimaraes/repositories/semeval2025_paperexp/venv/lib/python3.10/site-packages (from pydantic>=1.8.0->langextract) (2.33.2)\r\n",
      "Requirement already satisfied: typing-inspection>=0.4.0 in /home/nguimaraes/repositories/semeval2025_paperexp/venv/lib/python3.10/site-packages (from pydantic>=1.8.0->langextract) (0.4.1)\r\n",
      "Requirement already satisfied: charset-normalizer<4,>=2 in /home/nguimaraes/repositories/semeval2025_paperexp/venv/lib/python3.10/site-packages (from requests>=2.25.0->langextract) (3.4.1)\r\n",
      "Requirement already satisfied: idna<4,>=2.5 in /home/nguimaraes/repositories/semeval2025_paperexp/venv/lib/python3.10/site-packages (from requests>=2.25.0->langextract) (3.10)\r\n",
      "Requirement already satisfied: urllib3<3,>=1.21.1 in /home/nguimaraes/repositories/semeval2025_paperexp/venv/lib/python3.10/site-packages (from requests>=2.25.0->langextract) (2.3.0)\r\n",
      "Requirement already satisfied: certifi>=2017.4.17 in /home/nguimaraes/repositories/semeval2025_paperexp/venv/lib/python3.10/site-packages (from requests>=2.25.0->langextract) (2024.12.14)\r\n",
      "Requirement already satisfied: sniffio>=1.1 in /home/nguimaraes/repositories/semeval2025_paperexp/venv/lib/python3.10/site-packages (from anyio<5.0.0,>=4.8.0->google-genai>=0.1.0->langextract) (1.3.1)\r\n",
      "Requirement already satisfied: cachetools<6.0,>=2.0.0 in /home/nguimaraes/repositories/semeval2025_paperexp/venv/lib/python3.10/site-packages (from google-auth<3.0.0,>=2.14.1->google-genai>=0.1.0->langextract) (5.5.2)\r\n",
      "Requirement already satisfied: pyasn1-modules>=0.2.1 in /home/nguimaraes/repositories/semeval2025_paperexp/venv/lib/python3.10/site-packages (from google-auth<3.0.0,>=2.14.1->google-genai>=0.1.0->langextract) (0.4.2)\r\n",
      "Requirement already satisfied: rsa<5,>=3.1.4 in /home/nguimaraes/repositories/semeval2025_paperexp/venv/lib/python3.10/site-packages (from google-auth<3.0.0,>=2.14.1->google-genai>=0.1.0->langextract) (4.9.1)\r\n",
      "Requirement already satisfied: httpcore==1.* in /home/nguimaraes/repositories/semeval2025_paperexp/venv/lib/python3.10/site-packages (from httpx<1.0.0,>=0.28.1->google-genai>=0.1.0->langextract) (1.0.7)\r\n",
      "Requirement already satisfied: h11<0.15,>=0.13 in /home/nguimaraes/repositories/semeval2025_paperexp/venv/lib/python3.10/site-packages (from httpcore==1.*->httpx<1.0.0,>=0.28.1->google-genai>=0.1.0->langextract) (0.14.0)\r\n",
      "Requirement already satisfied: six>=1.5 in /home/nguimaraes/repositories/semeval2025_paperexp/venv/lib/python3.10/site-packages (from python-dateutil>=2.8.2->pandas>=1.3.0->langextract) (1.17.0)\r\n",
      "Requirement already satisfied: pyasn1<0.7.0,>=0.6.1 in /home/nguimaraes/repositories/semeval2025_paperexp/venv/lib/python3.10/site-packages (from pyasn1-modules>=0.2.1->google-auth<3.0.0,>=2.14.1->google-genai>=0.1.0->langextract) (0.6.1)\r\n",
      "\r\n",
      "\u001B[1m[\u001B[0m\u001B[34;49mnotice\u001B[0m\u001B[1;39;49m]\u001B[0m\u001B[39;49m A new release of pip is available: \u001B[0m\u001B[31;49m23.2.1\u001B[0m\u001B[39;49m -> \u001B[0m\u001B[32;49m25.2\u001B[0m\r\n",
      "\u001B[1m[\u001B[0m\u001B[34;49mnotice\u001B[0m\u001B[1;39;49m]\u001B[0m\u001B[39;49m To update, run: \u001B[0m\u001B[32;49mpip install --upgrade pip\u001B[0m\r\n"
     ]
    }
   ]
  },
  {
   "cell_type": "markdown",
   "source": [
    "## Load Data"
   ],
   "metadata": {
    "id": "BaHm5Dsycrel"
   }
  },
  {
   "cell_type": "code",
   "source": [
    "from utils.parse_data import getData, convertData, convertDatatoPandas"
   ],
   "metadata": {
    "colab": {
     "base_uri": "https://localhost:8080/",
     "height": 304
    },
    "id": "-Oxz-m3qcndG",
    "executionInfo": {
     "status": "error",
     "timestamp": 1758723153598,
     "user_tz": -60,
     "elapsed": 4512,
     "user": {
      "displayName": "Nuno Guimarães",
      "userId": "16888259959418070017"
     }
    },
    "outputId": "bb67edf5-ff0a-4500-df15-e753773a0313",
    "ExecuteTime": {
     "end_time": "2025-09-24T15:00:43.595305330Z",
     "start_time": "2025-09-24T15:00:43.564290654Z"
    }
   },
   "execution_count": 7,
   "outputs": []
  },
  {
   "cell_type": "code",
   "source": [
    "\"\"\"\n",
    "ARGUMENT to pass to getData is the folder from the exported project from inception in CAS (in this case is called curation)\n",
    "\"\"\"\n",
    "annotations=getData()\n",
    "data=convertData(annotations)"
   ],
   "metadata": {
    "colab": {
     "base_uri": "https://localhost:8080/"
    },
    "id": "s7QCb9R8dgha",
    "executionInfo": {
     "status": "ok",
     "timestamp": 1758712959495,
     "user_tz": -60,
     "elapsed": 1239,
     "user": {
      "displayName": "Nuno Guimarães",
      "userId": "16888259959418070017"
     }
    },
    "outputId": "cab48237-657c-4d14-fb99-29b0a8674bc5",
    "ExecuteTime": {
     "end_time": "2025-09-24T15:00:34.158992641Z",
     "start_time": "2025-09-24T15:00:12.661298505Z"
    }
   },
   "execution_count": 6,
   "outputs": []
  },
  {
   "cell_type": "code",
   "outputs": [],
   "source": [
    "df=convertDatatoPandas(annotations)"
   ],
   "metadata": {
    "collapsed": false,
    "ExecuteTime": {
     "end_time": "2025-09-24T15:00:48.372014444Z",
     "start_time": "2025-09-24T15:00:48.300397178Z"
    }
   },
   "execution_count": 8
  },
  {
   "cell_type": "code",
   "outputs": [
    {
     "data": {
      "text/plain": "              label  begin   end  doc_id  \\\n0              None      0    74       1   \n1              None     85    96       1   \n2              None      0    76       2   \n3              None     85    96       2   \n4         Non-claim    309   455       2   \n...             ...    ...   ...     ...   \n11698    Claim span   2492  2742    1536   \n11699  Claim object   2504  2579    1536   \n11700       Claimer   2755  2784    1536   \n11701     Non-claim   3021  3091    1536   \n11702     Non-claim   3264  3350    1536   \n\n                                                    text  \\\n0      Criado sistema de depósito e reembolso para em...   \n1      Criado sistema de depósito e reembolso para em...   \n2      Nova reitora da Universidade de Évora quer \"vo...   \n3      Nova reitora da Universidade de Évora quer \"vo...   \n4      Nova reitora da Universidade de Évora quer \"vo...   \n...                                                  ...   \n11698  Costa admite fundo ambiental e climático com 1...   \n11699  Costa admite fundo ambiental e climático com 1...   \n11700  Costa admite fundo ambiental e climático com 1...   \n11701  Costa admite fundo ambiental e climático com 1...   \n11702  Costa admite fundo ambiental e climático com 1...   \n\n                                              token_text  \n0      Criado sistema de depósito e reembolso para em...  \n1                                            04 dez 2023  \n2      Nova reitora da Universidade de Évora quer \"vo...  \n3                                            10 mai 2022  \n4      Temos que criar uma voz única na defesa dos in...  \n...                                                  ...  \n11698  este é ou o primeiro ou seguramente um dos pri...  \n11699  primeiro ou seguramente um dos primeiros instr...  \n11700                      o primeiro-ministro português  \n11701  Aqui está uma forma concreta de apoiar este me...  \n11702  Antes de essa conferência se iniciar, Portugal...  \n\n[11703 rows x 6 columns]",
      "text/html": "<div>\n<style scoped>\n    .dataframe tbody tr th:only-of-type {\n        vertical-align: middle;\n    }\n\n    .dataframe tbody tr th {\n        vertical-align: top;\n    }\n\n    .dataframe thead th {\n        text-align: right;\n    }\n</style>\n<table border=\"1\" class=\"dataframe\">\n  <thead>\n    <tr style=\"text-align: right;\">\n      <th></th>\n      <th>label</th>\n      <th>begin</th>\n      <th>end</th>\n      <th>doc_id</th>\n      <th>text</th>\n      <th>token_text</th>\n    </tr>\n  </thead>\n  <tbody>\n    <tr>\n      <th>0</th>\n      <td>None</td>\n      <td>0</td>\n      <td>74</td>\n      <td>1</td>\n      <td>Criado sistema de depósito e reembolso para em...</td>\n      <td>Criado sistema de depósito e reembolso para em...</td>\n    </tr>\n    <tr>\n      <th>1</th>\n      <td>None</td>\n      <td>85</td>\n      <td>96</td>\n      <td>1</td>\n      <td>Criado sistema de depósito e reembolso para em...</td>\n      <td>04 dez 2023</td>\n    </tr>\n    <tr>\n      <th>2</th>\n      <td>None</td>\n      <td>0</td>\n      <td>76</td>\n      <td>2</td>\n      <td>Nova reitora da Universidade de Évora quer \"vo...</td>\n      <td>Nova reitora da Universidade de Évora quer \"vo...</td>\n    </tr>\n    <tr>\n      <th>3</th>\n      <td>None</td>\n      <td>85</td>\n      <td>96</td>\n      <td>2</td>\n      <td>Nova reitora da Universidade de Évora quer \"vo...</td>\n      <td>10 mai 2022</td>\n    </tr>\n    <tr>\n      <th>4</th>\n      <td>Non-claim</td>\n      <td>309</td>\n      <td>455</td>\n      <td>2</td>\n      <td>Nova reitora da Universidade de Évora quer \"vo...</td>\n      <td>Temos que criar uma voz única na defesa dos in...</td>\n    </tr>\n    <tr>\n      <th>...</th>\n      <td>...</td>\n      <td>...</td>\n      <td>...</td>\n      <td>...</td>\n      <td>...</td>\n      <td>...</td>\n    </tr>\n    <tr>\n      <th>11698</th>\n      <td>Claim span</td>\n      <td>2492</td>\n      <td>2742</td>\n      <td>1536</td>\n      <td>Costa admite fundo ambiental e climático com 1...</td>\n      <td>este é ou o primeiro ou seguramente um dos pri...</td>\n    </tr>\n    <tr>\n      <th>11699</th>\n      <td>Claim object</td>\n      <td>2504</td>\n      <td>2579</td>\n      <td>1536</td>\n      <td>Costa admite fundo ambiental e climático com 1...</td>\n      <td>primeiro ou seguramente um dos primeiros instr...</td>\n    </tr>\n    <tr>\n      <th>11700</th>\n      <td>Claimer</td>\n      <td>2755</td>\n      <td>2784</td>\n      <td>1536</td>\n      <td>Costa admite fundo ambiental e climático com 1...</td>\n      <td>o primeiro-ministro português</td>\n    </tr>\n    <tr>\n      <th>11701</th>\n      <td>Non-claim</td>\n      <td>3021</td>\n      <td>3091</td>\n      <td>1536</td>\n      <td>Costa admite fundo ambiental e climático com 1...</td>\n      <td>Aqui está uma forma concreta de apoiar este me...</td>\n    </tr>\n    <tr>\n      <th>11702</th>\n      <td>Non-claim</td>\n      <td>3264</td>\n      <td>3350</td>\n      <td>1536</td>\n      <td>Costa admite fundo ambiental e climático com 1...</td>\n      <td>Antes de essa conferência se iniciar, Portugal...</td>\n    </tr>\n  </tbody>\n</table>\n<p>11703 rows × 6 columns</p>\n</div>"
     },
     "execution_count": 9,
     "metadata": {},
     "output_type": "execute_result"
    }
   ],
   "source": [
    "df"
   ],
   "metadata": {
    "collapsed": false,
    "ExecuteTime": {
     "end_time": "2025-09-24T15:00:50.791346827Z",
     "start_time": "2025-09-24T15:00:50.760681858Z"
    }
   },
   "execution_count": 9
  },
  {
   "cell_type": "markdown",
   "source": [
    "## Using Gemini with LangExtract\n"
   ],
   "metadata": {
    "id": "55gNxzTCbfuS"
   }
  },
  {
   "cell_type": "code",
   "source": [
    "import langextract as lx\n",
    "\"\"\"\n",
    "HERE SHOULD BE THE KEY\n",
    "\"\"\"\n",
    "LANGEXTRACT_API_KEY=\"INSERT GEMINI KEY HERE!!!\"\n",
    "\"\"\"\n",
    "HERE SHOULD BE THE KEY\n",
    "\"\"\"\n",
    "#doc_id= used as fewshot\n",
    "\n",
    "def extract_info_gemini(input_text):\n",
    "    example_text = 'Costa admite fundo ambiental e climático com 140 milhões de euros de dívida de Cabo Verde (C/ÁUDIO e VÍDEO)\\n\\n \\nLisboa, 20 jun 2023 (Lusa) – O primeiro-ministro português admitiu hoje que a conversão da dívida de Cabo Verde a Portugal para integrar um fundo ambiental e climático poderá atingir 140 milhões de euros, mecanismo que considerou “um exemplo à escala global”.\\nEsta posição foi transmitida por António Costa em São Bento, numa declaração conjunta com o seu homólogo cabo-verdiano, Ulisses Correia e Silva, após os dois países terem assinado um acordo para a integração de 12 milhões de euros de dívida de Cabo Verde num fundo ambiental e climático a ser criado pelo executivo da Praia.\\n“A dívida que seria paga por Cabo Verde até 2025 - 12 milhões de euros - é integrada num fundo ambiental e climático para que o Estado cabo-verdiano apoie o financiamento e invista na transição climática no país. Em 2025, avaliaremos o sucesso desta operação. Estamos seguros que essa avaliação será positiva e poderemos alargar este mecanismo à restante dívida na totalidade da sua maturidade e no âmbito total, que são cerca de 140 milhões de euros”, declarou o líder do executivo português.\\nEste acordo para a criação de um Fundo Climático Ambiental, envolvendo para já 12 milhões de euros, foi assinado nos jardins de São Bento pelo ministro das Finanças de Portugal, Fernando Medina, e pelo vice-primeiro-ministro e ministro das Finanças de Cabo Verde, Olavo Correia.\\nSegundo o Governo português, os 12 milhões de euros correspondem ao montante a reembolsar pelo Estado cabo-verdiano, a título de capital, no âmbito do Contrato de Consolidação da Dívida de Cabo Verde a Portugal, celebrado em 1 de fevereiro de 2022.\\n“É o primeiro passo de uma caminhada que queremos fazer em conjunto. Assinámos um documento particularmente inovador à escala global. Um acordo que permite conversão de dívida em investimento para acelerar a transição climática e promover as economias verde e azul”, defendeu António Costa, tendo ao seu lado Ulisses Correia e Silva, numa declaração sem direito a perguntas por parte dos jornalistas.\\nAntónio Costa referiu depois que há várias conferências mundiais sobre o clima que se debate como financiar o investimento dos países em desenvolvimento para acelerar a sua transição para uma economia mais verde, num quadro “de uma aliança global para se enfrentar as alterações climáticas”.\\n“Temos ouvido muitos discursos, temos assinado muitas declarações, mas creio que este é ou o primeiro ou seguramente um dos primeiros instrumentos financeiros concretos onde dois Estados acordam em que a dívida existente vai sendo convertida num fundo para financiar os investimentos necessários para acelerar a transição climática”, salientou o primeiro-ministro português.\\nPerante o seu homólogo cabo-verdiano, António Costa sustentou ainda que o acordo agora assinado “é a tradução concreta de algo que todos têm consciência: Só em conjunto se poderá enfrentar o desafio global das alterações climáticas”.\\n“Aqui está uma forma concreta de apoiar este mecanismo de financiamento”, insistiu, antes de observar que esta semana, em Paris, realiza-se uma conferência internacional sobre formas de financiamento da transição verde e azul à escala global.\\n“Antes de essa conferência se iniciar, Portugal e Cabo Verde já deram um passo concreto. Estamos a concretizar agora algo que anunciámos já há alguns meses no Mindelo, permitindo acelerar a transição climática em Cabo Verde, através de um instrumento financeiro criativo e inovador”, acrescentou.\\nAlém do acordo relativo à participação portuguesa no fundo ambiental e climático de Cabo Verde, os dois países assinaram também hoje um protocolo de cooperação sobre finanças públicas.\\n \\nPMF // JPS\\nLusa/Fim'\n",
    "\n",
    "  # Define extraction prompt\n",
    "    prompt_description = ('Identifique claims (alegações factuais) e non-claims no texto, de acordo com as seguintes regras:'\n",
    "                          'Claim:'\n",
    "                          'Definição: Uma claim é uma afirmação factual, verificável e de interesse público, expressa em discurso direto (entre aspas), atribuída a alguém que não seja o jornalista.)'\n",
    "                          'Segmento textual: Extraia apenas frases declarativas completas, com sentido próprio, sem incluir aspas ou ponto final.'\n",
    "                          'Critérios de inclusão: '\n",
    "                          'Claims geralmente aparecem ligadas a verbos de relato (afirmar, frisar, referir, disse, explicou). '\n",
    "                          'Cada claim deve ser extraída individualmente, mesmo que esteja numa mesma citação.'\n",
    "                          'Critérios de exclusão:'\n",
    "                          'Não extrair frases incompletas ou sem sentido.'\n",
    "                          'Não extrair frases informativas, de senso comum ou sem relevância pública.'\n",
    "                          'Não extrair frases sobre possibilidades futuras ou hipóteses.'\n",
    "                          'Non-Claim:'\n",
    "                          'Definição: Frases subjetivas (opiniões, crenças, juízos pessoais), especulativas ou com referência a acontecimentos futuros não comprováveis.'\n",
    "                          'Regras:'\n",
    "                          'Devem ser frases declarativas completas em discurso direto (entre aspas).'\n",
    "                          'Não incluir aspas nem ponto final.'\n",
    "                          'Exclusão: frases narrativas do jornalista ou sem sentido completo.'\n",
    "                          'Instruções Gerais:'\n",
    "                          'Analise cada frase individualmente dentro de citações diretas.'\n",
    "                          'Numa mesma citação podem existir claims e non-claims; classifique cada frase separadamente.')\n",
    "    \n",
    "      # Define example data with entities in order of appearance\n",
    "    examples = [\n",
    "          lx.data.ExampleData(\n",
    "              text=example_text,\n",
    "              extractions=[\n",
    "                  lx.data.Extraction(extraction_class=\"claim\", extraction_text=\"Temos ouvido muitos discursos, temos assinado muitas declarações, mas creio que este é ou o primeiro ou seguramente um dos primeiros instrumentos financeiros concretos onde dois Estados acordam em que a dívida existente vai sendo convertida num fundo para financiar os investimentos necessários para acelerar a transição climática\"),\n",
    "                  lx.data.Extraction(extraction_class=\"non-claim\", extraction_text=\"Assinámos um documento particularmente inovador à escala global\")\n",
    "                \n",
    "              ]\n",
    "          )\n",
    "    ]\n",
    "    result = lx.extract(\n",
    "        text_or_documents=input_text,\n",
    "        prompt_description=prompt_description,\n",
    "        examples=examples,\n",
    "        api_key=LANGEXTRACT_API_KEY,\n",
    "        model_id=\"gemini-2.5-flash\",\n",
    "    )\n",
    "    \n",
    "    return result\n"
   ],
   "metadata": {
    "id": "lT6G5zOqjhmz",
    "ExecuteTime": {
     "end_time": "2025-09-24T15:27:51.061968327Z",
     "start_time": "2025-09-24T15:27:51.054620716Z"
    }
   },
   "execution_count": 41,
   "outputs": []
  },
  {
   "cell_type": "markdown",
   "source": [
    "### Testing"
   ],
   "metadata": {
    "id": "h26yzfxdzCG2"
   }
  },
  {
   "cell_type": "code",
   "source": [
    "# test example\n",
    "\n",
    "test_text=data[5][\"text\"]\n",
    "result=extract_info_gemini(test_text)"
   ],
   "metadata": {
    "colab": {
     "base_uri": "https://localhost:8080/"
    },
    "id": "h6i3R94zfzOe",
    "executionInfo": {
     "status": "ok",
     "timestamp": 1758718426563,
     "user_tz": -60,
     "elapsed": 3586,
     "user": {
      "displayName": "Nuno Guimarães",
      "userId": "16888259959418070017"
     }
    },
    "outputId": "5e0cb80e-9250-42ef-d7c9-0e2f4c047009",
    "ExecuteTime": {
     "end_time": "2025-09-24T15:28:25.931319115Z",
     "start_time": "2025-09-24T15:27:53.756047536Z"
    }
   },
   "execution_count": 42,
   "outputs": [
    {
     "name": "stderr",
     "output_type": "stream",
     "text": [
      "WARNING:absl:Prompt alignment: non-exact match: [example#0] class='non-claim' status=AlignmentStatus.MATCH_FUZZY text='Assinámos um documento particularmente inovador à escala global' char_span=(1787, 1850)\n"
     ]
    }
   ]
  },
  {
   "cell_type": "code",
   "source": [
    "result"
   ],
   "metadata": {
    "colab": {
     "base_uri": "https://localhost:8080/"
    },
    "id": "CnodcNxzcSY_",
    "executionInfo": {
     "status": "ok",
     "timestamp": 1758718674840,
     "user_tz": -60,
     "elapsed": 27,
     "user": {
      "displayName": "Nuno Guimarães",
      "userId": "16888259959418070017"
     }
    },
    "outputId": "ce05a5bd-3880-4a35-dad8-35d6a503209a",
    "ExecuteTime": {
     "end_time": "2025-09-24T15:28:25.935457504Z",
     "start_time": "2025-09-24T15:28:25.932612404Z"
    }
   },
   "execution_count": 43,
   "outputs": [
    {
     "data": {
      "text/plain": "AnnotatedDocument(extractions=[Extraction(extraction_class='non-claim', extraction_text='A implicação da seca terá custos reais no nosso setor', char_interval=CharInterval(start_pos=340, end_pos=393), alignment_status=<AlignmentStatus.MATCH_EXACT: 'match_exact'>, extraction_index=1, group_index=0, description=None, attributes={}), Extraction(extraction_class='claim', extraction_text='Portugal ter o mais alto preço da energia e dos combustíveis na Europa', char_interval=CharInterval(start_pos=458, end_pos=528), alignment_status=<AlignmentStatus.MATCH_EXACT: 'match_exact'>, extraction_index=2, group_index=1, description=None, attributes={}), Extraction(extraction_class='non-claim', extraction_text='Com a seca, teremos de fazer o abastecimento através de autotanques', char_interval=CharInterval(start_pos=530, end_pos=597), alignment_status=<AlignmentStatus.MATCH_EXACT: 'match_exact'>, extraction_index=3, group_index=2, description=None, attributes={}), Extraction(extraction_class='non-claim', extraction_text='com os custos dos combustíveis, os custos de produção vão aumentar ainda mais', char_interval=CharInterval(start_pos=601, end_pos=678), alignment_status=<AlignmentStatus.MATCH_EXACT: 'match_exact'>, extraction_index=4, group_index=3, description=None, attributes={}), Extraction(extraction_class='non-claim', extraction_text='O elemento da seca é mais um para agravar a situação', char_interval=CharInterval(start_pos=912, end_pos=964), alignment_status=<AlignmentStatus.MATCH_EXACT: 'match_exact'>, extraction_index=5, group_index=4, description=None, attributes={}), Extraction(extraction_class='claim', extraction_text='o setor das suiniculturas é aquele que não consegue refletir os custos de produção na venda ao público', char_interval=CharInterval(start_pos=1012, end_pos=1114), alignment_status=<AlignmentStatus.MATCH_EXACT: 'match_exact'>, extraction_index=1, group_index=0, description=None, attributes={}), Extraction(extraction_class='non-claim', extraction_text='As margens brutais são para quem vende', char_interval=CharInterval(start_pos=1118, end_pos=1156), alignment_status=<AlignmentStatus.MATCH_EXACT: 'match_exact'>, extraction_index=2, group_index=1, description=None, attributes={}), Extraction(extraction_class='non-claim', extraction_text='o setor está a caminho do colapso, pondo em causa empresas, famílias e muitos postos de trabalho', char_interval=CharInterval(start_pos=1194, end_pos=1208), alignment_status=<AlignmentStatus.MATCH_LESSER: 'match_lesser'>, extraction_index=3, group_index=2, description=None, attributes={}), Extraction(extraction_class='non-claim', extraction_text='a situação de seca em Portugal, especialmente a Sul, começa a ser preocupante', char_interval=CharInterval(start_pos=1430, end_pos=1507), alignment_status=<AlignmentStatus.MATCH_EXACT: 'match_exact'>, extraction_index=4, group_index=3, description=None, attributes={}), Extraction(extraction_class='claim', extraction_text='ainda não chegou aos piores níveis dos últimos 20 anos para esta altura', char_interval=CharInterval(start_pos=1525, end_pos=1596), alignment_status=<AlignmentStatus.MATCH_EXACT: 'match_exact'>, extraction_index=5, group_index=4, description=None, attributes={}), Extraction(extraction_class='claim', extraction_text='a situação de seca entre fraca e moderada já se verificava no último trimestre de 2021', char_interval=CharInterval(start_pos=1670, end_pos=1688), alignment_status=<AlignmentStatus.MATCH_LESSER: 'match_lesser'>, extraction_index=6, group_index=5, description=None, attributes={}), Extraction(extraction_class='claim', extraction_text='não há para já previsões de chuva significativa, pelo menos até ao fim de janeiro', char_interval=CharInterval(start_pos=1765, end_pos=1846), alignment_status=<AlignmentStatus.MATCH_EXACT: 'match_exact'>, extraction_index=7, group_index=6, description=None, attributes={}), Extraction(extraction_class='claim', extraction_text='É uma situação anormal para esta altura', char_interval=CharInterval(start_pos=1827, end_pos=1888), alignment_status=<AlignmentStatus.MATCH_FUZZY: 'match_fuzzy'>, extraction_index=8, group_index=7, description=None, attributes={}), Extraction(extraction_class='claim', extraction_text='Não está ao nível de uma seca como tivemos em 2005', char_interval=CharInterval(start_pos=1890, end_pos=1940), alignment_status=<AlignmentStatus.MATCH_EXACT: 'match_exact'>, extraction_index=9, group_index=8, description=None, attributes={}), Extraction(extraction_class='non-claim', extraction_text='Mas, se entre o final de janeiro e fevereiro não houver precipitação, a situação poderá agravar-se imenso', char_interval=CharInterval(start_pos=1942, end_pos=2047), alignment_status=<AlignmentStatus.MATCH_EXACT: 'match_exact'>, extraction_index=1, group_index=0, description=None, attributes={}), Extraction(extraction_class='claim', extraction_text='toda a atividade de inverno está comprometida e a entrar em situação de gravidade extrema no que diz respeito à pecuária e às culturas de outono e inverno', char_interval=CharInterval(start_pos=2325, end_pos=2479), alignment_status=<AlignmentStatus.MATCH_EXACT: 'match_exact'>, extraction_index=2, group_index=1, description=None, attributes={})], text='Seca: Suinicultores alertam para aumento de custos com abastecimento de água \\n\\nLeiria, 28 jan 2022 (Lusa) - O presidente da Federação Portuguesa de Associações de Suinicultores (FPAS), David Neves, alertou hoje para o impacto que a seca terá no setor da suinicultura, com o aumento dos custos no abastecimento de água para as explorações.\\n“A implicação da seca terá custos reais no nosso setor, que já está a ser sujeito a uma grande exposição pelo facto de Portugal ter o mais alto preço da energia e dos combustíveis na Europa. Com a seca, teremos de fazer o abastecimento através de autotanques e, com os custos dos combustíveis, os custos de produção vão aumentar ainda mais”, afirmou à agência Lusa David Neves.\\nO também presidente da Associação de Suinicultores de Leiria salientou que o setor da suinicultura está a viver a “tempestade perfeita”, com o custo das matérias-primas, energia e combustíveis.\\n“O elemento da seca é mais um para agravar a situação”, acrescentou.\\nSegundo adiantou o empresário, “o setor das suiniculturas é aquele que não consegue refletir os custos de produção na venda ao público”.\\n“As margens brutais são para quem vende”, criticou David Neves, avisando que o setor está a “caminho do colapso”, pondo em causa \"empresas, famílias e muitos postos de trabalho”.\\nPor isso, apelou à redução dos \"preços dos combustíveis”.\\nNa semana passada, a climatologista Vanda Cabrinha já tinha considerado que a situação de seca em Portugal, especialmente a Sul, começa a ser preocupante, salientando que ainda não chegou aos piores níveis dos últimos 20 anos para esta altura.\\nEm declarações à agência Lusa, a climatologista indicou, na altura, que a situação de seca \"entre fraca e moderada\" já se verificava no último trimestre de 2021 e que não há para já previsões de chuva significativa, pelo menos até ao fim de janeiro.\\n\"É uma situação anormal para esta altura. Não está ao nível de uma seca como tivemos em 2005. Mas, se entre o final de janeiro e fevereiro não houver precipitação, a situação poderá agravar-se imenso\", referiu.\\nA Confederação dos Agricultores de Portugal (CAP) alertou que, face à seca, toda a atividade de inverno está comprometida, destacando que a pecuária está a entrar em situação de “gravidade extrema”, pedindo a intervenção do Governo.\\nO presidente da CAP referiu que “toda a atividade de inverno está comprometida e a entrar em situação de gravidade extrema no que diz respeito à pecuária e às culturas de outono e inverno”.\\nSegundo este responsável, a seca começou por afetar a região Sul, mas, neste momento, já afeta praticamente todo o território.\\n\\nEYC (PE/APN) // SSS\\nLusa/Fim')"
     },
     "execution_count": 43,
     "metadata": {},
     "output_type": "execute_result"
    }
   ]
  },
  {
   "cell_type": "code",
   "source": [
    "# Save the results to a JSONL file\n",
    "lx.io.save_annotated_documents([result], output_name=\"extraction_results.jsonl\", output_dir=\".\")\n",
    "\n",
    "# Generate the visualization from the file\n",
    "html_content = lx.visualize(\"extraction_results.jsonl\")\n",
    "with open(\"visualization.html\", \"w\", encoding=\"utf-8\") as f:\n",
    "    if hasattr(html_content, 'data'):\n",
    "        f.write(html_content.data)  # For Jupyter/Colab\n",
    "    else:\n",
    "        f.write(html_content)"
   ],
   "metadata": {
    "colab": {
     "base_uri": "https://localhost:8080/"
    },
    "id": "ODmncrtmcaVW",
    "executionInfo": {
     "status": "ok",
     "timestamp": 1758718523567,
     "user_tz": -60,
     "elapsed": 161,
     "user": {
      "displayName": "Nuno Guimarães",
      "userId": "16888259959418070017"
     }
    },
    "outputId": "41d535fc-4d5f-46a4-92bb-6e79358abb83",
    "ExecuteTime": {
     "end_time": "2025-09-24T15:28:29.950465478Z",
     "start_time": "2025-09-24T15:28:29.944464342Z"
    }
   },
   "execution_count": 44,
   "outputs": [
    {
     "name": "stderr",
     "output_type": "stream",
     "text": [
      "\n",
      "\n",
      "\n",
      "\u001B[94m\u001B[1mLangExtract\u001B[0m: Saving to \u001B[92mextraction_results.jsonl\u001B[0m: 1 docs [00:00, 1539.76 docs/s]\u001B[A"
     ]
    },
    {
     "name": "stdout",
     "output_type": "stream",
     "text": [
      "\u001B[92m✓\u001B[0m Saved \u001B[1m1\u001B[0m documents to \u001B[92mextraction_results.jsonl\u001B[0m\n"
     ]
    },
    {
     "name": "stderr",
     "output_type": "stream",
     "text": [
      "\n",
      "\n",
      "\n",
      "\n",
      "\u001B[94m\u001B[1mLangExtract\u001B[0m: Loading \u001B[92mextraction_results.jsonl\u001B[0m: 100%|██████████| 7.74k/7.74k [00:00<00:00, 27.6MB/s]"
     ]
    },
    {
     "name": "stdout",
     "output_type": "stream",
     "text": [
      "\u001B[92m✓\u001B[0m Loaded \u001B[1m1\u001B[0m documents from \u001B[92mextraction_results.jsonl\u001B[0m\n"
     ]
    },
    {
     "name": "stderr",
     "output_type": "stream",
     "text": [
      "\n"
     ]
    }
   ]
  },
  {
   "cell_type": "markdown",
   "source": [
    "### Full data"
   ],
   "metadata": {
    "id": "K4ko6ImszEjr"
   }
  },
  {
   "cell_type": "code",
   "source": [
    "import os\n",
    "import time\n",
    "import random\n",
    "output_folder=\"results\"\n",
    "for entry in data:\n",
    "  time.sleep(random.randint(60,90))\n",
    "  print(\"processing\",entry[\"doc_id\"])\n",
    "  try:\n",
    "    result=extract_info_gemini(entry[\"text\"])\n",
    "  except Exception as e:\n",
    "    time.sleep(120)\n",
    "    result=extract_info_gemini(entry[\"text\"])\n",
    "  lx.io.save_annotated_documents([result], output_name=str(entry[\"doc_id\"])+\".json\", output_dir=output_folder)\n",
    "  html_content = lx.visualize(os.path.join(output_folder,str(entry[\"doc_id\"])+\".json\"))\n",
    "  with open(os.path.join(output_folder,str(entry[\"doc_id\"])+\".html\"), \"w\") as f:\n",
    "      if hasattr(html_content, 'data'):\n",
    "          f.write(html_content.data)  # For Jupyter/Colab\n",
    "      else:\n",
    "          f.write(html_content)\n",
    "\n",
    "  print(\"processed!!!\",entry[\"doc_id\"])\n",
    "\n"
   ],
   "metadata": {
    "id": "jk62j1X3zEEL",
    "ExecuteTime": {
     "end_time": "2025-09-24T19:14:34.378057090Z",
     "start_time": "2025-09-24T19:12:59.172912669Z"
    }
   },
   "execution_count": 48,
   "outputs": [
    {
     "name": "stdout",
     "output_type": "stream",
     "text": [
      "processing 1\n"
     ]
    },
    {
     "name": "stderr",
     "output_type": "stream",
     "text": [
      "WARNING:absl:Prompt alignment: non-exact match: [example#0] class='non-claim' status=AlignmentStatus.MATCH_FUZZY text='Assinámos um documento particularmente inovador à escala global' char_span=(1787, 1850)\n"
     ]
    },
    {
     "ename": "InferenceRuntimeError",
     "evalue": "Parallel inference error: Gemini API error: 429 RESOURCE_EXHAUSTED. {'error': {'code': 429, 'message': 'You exceeded your current quota, please check your plan and billing details. For more information on this error, head to: https://ai.google.dev/gemini-api/docs/rate-limits.\\n* Quota exceeded for metric: generativelanguage.googleapis.com/generate_content_free_tier_requests, limit: 250\\nPlease retry in 37.731187414s.', 'status': 'RESOURCE_EXHAUSTED', 'details': [{'@type': 'type.googleapis.com/google.rpc.QuotaFailure', 'violations': [{'quotaMetric': 'generativelanguage.googleapis.com/generate_content_free_tier_requests', 'quotaId': 'GenerateRequestsPerDayPerProjectPerModel-FreeTier', 'quotaDimensions': {'model': 'gemini-2.5-flash', 'location': 'global'}, 'quotaValue': '250'}]}, {'@type': 'type.googleapis.com/google.rpc.Help', 'links': [{'description': 'Learn more about Gemini API quotas', 'url': 'https://ai.google.dev/gemini-api/docs/rate-limits'}]}, {'@type': 'type.googleapis.com/google.rpc.RetryInfo', 'retryDelay': '37s'}]}}",
     "output_type": "error",
     "traceback": [
      "\u001B[0;31m---------------------------------------------------------------------------\u001B[0m",
      "\u001B[0;31mClientError\u001B[0m                               Traceback (most recent call last)",
      "File \u001B[0;32m~/repositories/semeval2025_paperexp/venv/lib/python3.10/site-packages/langextract/providers/gemini.py:202\u001B[0m, in \u001B[0;36mGeminiLanguageModel._process_single_prompt\u001B[0;34m(self, prompt, config)\u001B[0m\n\u001B[1;32m    200\u001B[0m   config\u001B[38;5;241m.\u001B[39msetdefault(\u001B[38;5;124m'\u001B[39m\u001B[38;5;124mresponse_schema\u001B[39m\u001B[38;5;124m'\u001B[39m, \u001B[38;5;28mself\u001B[39m\u001B[38;5;241m.\u001B[39mgemini_schema\u001B[38;5;241m.\u001B[39mschema_dict)\n\u001B[0;32m--> 202\u001B[0m response \u001B[38;5;241m=\u001B[39m \u001B[38;5;28;43mself\u001B[39;49m\u001B[38;5;241;43m.\u001B[39;49m\u001B[43m_client\u001B[49m\u001B[38;5;241;43m.\u001B[39;49m\u001B[43mmodels\u001B[49m\u001B[38;5;241;43m.\u001B[39;49m\u001B[43mgenerate_content\u001B[49m\u001B[43m(\u001B[49m\n\u001B[1;32m    203\u001B[0m \u001B[43m    \u001B[49m\u001B[43mmodel\u001B[49m\u001B[38;5;241;43m=\u001B[39;49m\u001B[38;5;28;43mself\u001B[39;49m\u001B[38;5;241;43m.\u001B[39;49m\u001B[43mmodel_id\u001B[49m\u001B[43m,\u001B[49m\u001B[43m \u001B[49m\u001B[43mcontents\u001B[49m\u001B[38;5;241;43m=\u001B[39;49m\u001B[43mprompt\u001B[49m\u001B[43m,\u001B[49m\u001B[43m \u001B[49m\u001B[43mconfig\u001B[49m\u001B[38;5;241;43m=\u001B[39;49m\u001B[43mconfig\u001B[49m\n\u001B[1;32m    204\u001B[0m \u001B[43m\u001B[49m\u001B[43m)\u001B[49m\n\u001B[1;32m    206\u001B[0m \u001B[38;5;28;01mreturn\u001B[39;00m core_types\u001B[38;5;241m.\u001B[39mScoredOutput(score\u001B[38;5;241m=\u001B[39m\u001B[38;5;241m1.0\u001B[39m, output\u001B[38;5;241m=\u001B[39mresponse\u001B[38;5;241m.\u001B[39mtext)\n",
      "File \u001B[0;32m~/repositories/semeval2025_paperexp/venv/lib/python3.10/site-packages/google/genai/models.py:6565\u001B[0m, in \u001B[0;36mModels.generate_content\u001B[0;34m(self, model, contents, config)\u001B[0m\n\u001B[1;32m   6564\u001B[0m i \u001B[38;5;241m+\u001B[39m\u001B[38;5;241m=\u001B[39m \u001B[38;5;241m1\u001B[39m\n\u001B[0;32m-> 6565\u001B[0m response \u001B[38;5;241m=\u001B[39m \u001B[38;5;28;43mself\u001B[39;49m\u001B[38;5;241;43m.\u001B[39;49m\u001B[43m_generate_content\u001B[49m\u001B[43m(\u001B[49m\n\u001B[1;32m   6566\u001B[0m \u001B[43m    \u001B[49m\u001B[43mmodel\u001B[49m\u001B[38;5;241;43m=\u001B[39;49m\u001B[43mmodel\u001B[49m\u001B[43m,\u001B[49m\u001B[43m \u001B[49m\u001B[43mcontents\u001B[49m\u001B[38;5;241;43m=\u001B[39;49m\u001B[43mcontents\u001B[49m\u001B[43m,\u001B[49m\u001B[43m \u001B[49m\u001B[43mconfig\u001B[49m\u001B[38;5;241;43m=\u001B[39;49m\u001B[43mparsed_config\u001B[49m\n\u001B[1;32m   6567\u001B[0m \u001B[43m\u001B[49m\u001B[43m)\u001B[49m\n\u001B[1;32m   6568\u001B[0m logger\u001B[38;5;241m.\u001B[39minfo(\u001B[38;5;124mf\u001B[39m\u001B[38;5;124m'\u001B[39m\u001B[38;5;124mAFC remote call \u001B[39m\u001B[38;5;132;01m{\u001B[39;00mi\u001B[38;5;132;01m}\u001B[39;00m\u001B[38;5;124m is done.\u001B[39m\u001B[38;5;124m'\u001B[39m)\n",
      "File \u001B[0;32m~/repositories/semeval2025_paperexp/venv/lib/python3.10/site-packages/google/genai/models.py:5377\u001B[0m, in \u001B[0;36mModels._generate_content\u001B[0;34m(self, model, contents, config)\u001B[0m\n\u001B[1;32m   5375\u001B[0m request_dict \u001B[38;5;241m=\u001B[39m _common\u001B[38;5;241m.\u001B[39mencode_unserializable_types(request_dict)\n\u001B[0;32m-> 5377\u001B[0m response \u001B[38;5;241m=\u001B[39m \u001B[38;5;28;43mself\u001B[39;49m\u001B[38;5;241;43m.\u001B[39;49m\u001B[43m_api_client\u001B[49m\u001B[38;5;241;43m.\u001B[39;49m\u001B[43mrequest\u001B[49m\u001B[43m(\u001B[49m\n\u001B[1;32m   5378\u001B[0m \u001B[43m    \u001B[49m\u001B[38;5;124;43m'\u001B[39;49m\u001B[38;5;124;43mpost\u001B[39;49m\u001B[38;5;124;43m'\u001B[39;49m\u001B[43m,\u001B[49m\u001B[43m \u001B[49m\u001B[43mpath\u001B[49m\u001B[43m,\u001B[49m\u001B[43m \u001B[49m\u001B[43mrequest_dict\u001B[49m\u001B[43m,\u001B[49m\u001B[43m \u001B[49m\u001B[43mhttp_options\u001B[49m\n\u001B[1;32m   5379\u001B[0m \u001B[43m\u001B[49m\u001B[43m)\u001B[49m\n\u001B[1;32m   5381\u001B[0m \u001B[38;5;28;01mif\u001B[39;00m config \u001B[38;5;129;01mis\u001B[39;00m \u001B[38;5;129;01mnot\u001B[39;00m \u001B[38;5;28;01mNone\u001B[39;00m \u001B[38;5;129;01mand\u001B[39;00m \u001B[38;5;28mgetattr\u001B[39m(\n\u001B[1;32m   5382\u001B[0m     config, \u001B[38;5;124m'\u001B[39m\u001B[38;5;124mshould_return_http_response\u001B[39m\u001B[38;5;124m'\u001B[39m, \u001B[38;5;28;01mNone\u001B[39;00m\n\u001B[1;32m   5383\u001B[0m ):\n",
      "File \u001B[0;32m~/repositories/semeval2025_paperexp/venv/lib/python3.10/site-packages/google/genai/_api_client.py:1290\u001B[0m, in \u001B[0;36mBaseApiClient.request\u001B[0;34m(self, http_method, path, request_dict, http_options)\u001B[0m\n\u001B[1;32m   1287\u001B[0m http_request \u001B[38;5;241m=\u001B[39m \u001B[38;5;28mself\u001B[39m\u001B[38;5;241m.\u001B[39m_build_request(\n\u001B[1;32m   1288\u001B[0m     http_method, path, request_dict, http_options\n\u001B[1;32m   1289\u001B[0m )\n\u001B[0;32m-> 1290\u001B[0m response \u001B[38;5;241m=\u001B[39m \u001B[38;5;28;43mself\u001B[39;49m\u001B[38;5;241;43m.\u001B[39;49m\u001B[43m_request\u001B[49m\u001B[43m(\u001B[49m\u001B[43mhttp_request\u001B[49m\u001B[43m,\u001B[49m\u001B[43m \u001B[49m\u001B[43mhttp_options\u001B[49m\u001B[43m,\u001B[49m\u001B[43m \u001B[49m\u001B[43mstream\u001B[49m\u001B[38;5;241;43m=\u001B[39;49m\u001B[38;5;28;43;01mFalse\u001B[39;49;00m\u001B[43m)\u001B[49m\n\u001B[1;32m   1291\u001B[0m response_body \u001B[38;5;241m=\u001B[39m (\n\u001B[1;32m   1292\u001B[0m     response\u001B[38;5;241m.\u001B[39mresponse_stream[\u001B[38;5;241m0\u001B[39m] \u001B[38;5;28;01mif\u001B[39;00m response\u001B[38;5;241m.\u001B[39mresponse_stream \u001B[38;5;28;01melse\u001B[39;00m \u001B[38;5;124m'\u001B[39m\u001B[38;5;124m'\u001B[39m\n\u001B[1;32m   1293\u001B[0m )\n",
      "File \u001B[0;32m~/repositories/semeval2025_paperexp/venv/lib/python3.10/site-packages/google/genai/_api_client.py:1126\u001B[0m, in \u001B[0;36mBaseApiClient._request\u001B[0;34m(self, http_request, http_options, stream)\u001B[0m\n\u001B[1;32m   1124\u001B[0m     \u001B[38;5;28;01mreturn\u001B[39;00m retry(\u001B[38;5;28mself\u001B[39m\u001B[38;5;241m.\u001B[39m_request_once, http_request, stream)  \u001B[38;5;66;03m# type: ignore[no-any-return]\u001B[39;00m\n\u001B[0;32m-> 1126\u001B[0m \u001B[38;5;28;01mreturn\u001B[39;00m \u001B[38;5;28;43mself\u001B[39;49m\u001B[38;5;241;43m.\u001B[39;49m\u001B[43m_retry\u001B[49m\u001B[43m(\u001B[49m\u001B[38;5;28;43mself\u001B[39;49m\u001B[38;5;241;43m.\u001B[39;49m\u001B[43m_request_once\u001B[49m\u001B[43m,\u001B[49m\u001B[43m \u001B[49m\u001B[43mhttp_request\u001B[49m\u001B[43m,\u001B[49m\u001B[43m \u001B[49m\u001B[43mstream\u001B[49m\u001B[43m)\u001B[49m\n",
      "File \u001B[0;32m~/repositories/semeval2025_paperexp/venv/lib/python3.10/site-packages/tenacity/__init__.py:477\u001B[0m, in \u001B[0;36mRetrying.__call__\u001B[0;34m(self, fn, *args, **kwargs)\u001B[0m\n\u001B[1;32m    476\u001B[0m \u001B[38;5;28;01mwhile\u001B[39;00m \u001B[38;5;28;01mTrue\u001B[39;00m:\n\u001B[0;32m--> 477\u001B[0m     do \u001B[38;5;241m=\u001B[39m \u001B[38;5;28;43mself\u001B[39;49m\u001B[38;5;241;43m.\u001B[39;49m\u001B[43miter\u001B[49m\u001B[43m(\u001B[49m\u001B[43mretry_state\u001B[49m\u001B[38;5;241;43m=\u001B[39;49m\u001B[43mretry_state\u001B[49m\u001B[43m)\u001B[49m\n\u001B[1;32m    478\u001B[0m     \u001B[38;5;28;01mif\u001B[39;00m \u001B[38;5;28misinstance\u001B[39m(do, DoAttempt):\n",
      "File \u001B[0;32m~/repositories/semeval2025_paperexp/venv/lib/python3.10/site-packages/tenacity/__init__.py:378\u001B[0m, in \u001B[0;36mBaseRetrying.iter\u001B[0;34m(self, retry_state)\u001B[0m\n\u001B[1;32m    377\u001B[0m \u001B[38;5;28;01mfor\u001B[39;00m action \u001B[38;5;129;01min\u001B[39;00m \u001B[38;5;28mself\u001B[39m\u001B[38;5;241m.\u001B[39miter_state\u001B[38;5;241m.\u001B[39mactions:\n\u001B[0;32m--> 378\u001B[0m     result \u001B[38;5;241m=\u001B[39m \u001B[43maction\u001B[49m\u001B[43m(\u001B[49m\u001B[43mretry_state\u001B[49m\u001B[43m)\u001B[49m\n\u001B[1;32m    379\u001B[0m \u001B[38;5;28;01mreturn\u001B[39;00m result\n",
      "File \u001B[0;32m~/repositories/semeval2025_paperexp/venv/lib/python3.10/site-packages/tenacity/__init__.py:420\u001B[0m, in \u001B[0;36mBaseRetrying._post_stop_check_actions.<locals>.exc_check\u001B[0;34m(rs)\u001B[0m\n\u001B[1;32m    419\u001B[0m \u001B[38;5;28;01mif\u001B[39;00m \u001B[38;5;28mself\u001B[39m\u001B[38;5;241m.\u001B[39mreraise:\n\u001B[0;32m--> 420\u001B[0m     \u001B[38;5;28;01mraise\u001B[39;00m \u001B[43mretry_exc\u001B[49m\u001B[38;5;241;43m.\u001B[39;49m\u001B[43mreraise\u001B[49m\u001B[43m(\u001B[49m\u001B[43m)\u001B[49m\n\u001B[1;32m    421\u001B[0m \u001B[38;5;28;01mraise\u001B[39;00m retry_exc \u001B[38;5;28;01mfrom\u001B[39;00m\u001B[38;5;250m \u001B[39m\u001B[38;5;21;01mfut\u001B[39;00m\u001B[38;5;21;01m.\u001B[39;00m\u001B[38;5;21;01mexception\u001B[39;00m()\n",
      "File \u001B[0;32m~/repositories/semeval2025_paperexp/venv/lib/python3.10/site-packages/tenacity/__init__.py:187\u001B[0m, in \u001B[0;36mRetryError.reraise\u001B[0;34m(self)\u001B[0m\n\u001B[1;32m    186\u001B[0m \u001B[38;5;28;01mif\u001B[39;00m \u001B[38;5;28mself\u001B[39m\u001B[38;5;241m.\u001B[39mlast_attempt\u001B[38;5;241m.\u001B[39mfailed:\n\u001B[0;32m--> 187\u001B[0m     \u001B[38;5;28;01mraise\u001B[39;00m \u001B[38;5;28;43mself\u001B[39;49m\u001B[38;5;241;43m.\u001B[39;49m\u001B[43mlast_attempt\u001B[49m\u001B[38;5;241;43m.\u001B[39;49m\u001B[43mresult\u001B[49m\u001B[43m(\u001B[49m\u001B[43m)\u001B[49m\n\u001B[1;32m    188\u001B[0m \u001B[38;5;28;01mraise\u001B[39;00m \u001B[38;5;28mself\u001B[39m\n",
      "File \u001B[0;32m/usr/lib/python3.10/concurrent/futures/_base.py:451\u001B[0m, in \u001B[0;36mFuture.result\u001B[0;34m(self, timeout)\u001B[0m\n\u001B[1;32m    450\u001B[0m \u001B[38;5;28;01melif\u001B[39;00m \u001B[38;5;28mself\u001B[39m\u001B[38;5;241m.\u001B[39m_state \u001B[38;5;241m==\u001B[39m FINISHED:\n\u001B[0;32m--> 451\u001B[0m     \u001B[38;5;28;01mreturn\u001B[39;00m \u001B[38;5;28;43mself\u001B[39;49m\u001B[38;5;241;43m.\u001B[39;49m\u001B[43m__get_result\u001B[49m\u001B[43m(\u001B[49m\u001B[43m)\u001B[49m\n\u001B[1;32m    453\u001B[0m \u001B[38;5;28mself\u001B[39m\u001B[38;5;241m.\u001B[39m_condition\u001B[38;5;241m.\u001B[39mwait(timeout)\n",
      "File \u001B[0;32m/usr/lib/python3.10/concurrent/futures/_base.py:403\u001B[0m, in \u001B[0;36mFuture.__get_result\u001B[0;34m(self)\u001B[0m\n\u001B[1;32m    402\u001B[0m \u001B[38;5;28;01mtry\u001B[39;00m:\n\u001B[0;32m--> 403\u001B[0m     \u001B[38;5;28;01mraise\u001B[39;00m \u001B[38;5;28mself\u001B[39m\u001B[38;5;241m.\u001B[39m_exception\n\u001B[1;32m    404\u001B[0m \u001B[38;5;28;01mfinally\u001B[39;00m:\n\u001B[1;32m    405\u001B[0m     \u001B[38;5;66;03m# Break a reference cycle with the exception in self._exception\u001B[39;00m\n",
      "File \u001B[0;32m~/repositories/semeval2025_paperexp/venv/lib/python3.10/site-packages/tenacity/__init__.py:480\u001B[0m, in \u001B[0;36mRetrying.__call__\u001B[0;34m(self, fn, *args, **kwargs)\u001B[0m\n\u001B[1;32m    479\u001B[0m \u001B[38;5;28;01mtry\u001B[39;00m:\n\u001B[0;32m--> 480\u001B[0m     result \u001B[38;5;241m=\u001B[39m \u001B[43mfn\u001B[49m\u001B[43m(\u001B[49m\u001B[38;5;241;43m*\u001B[39;49m\u001B[43margs\u001B[49m\u001B[43m,\u001B[49m\u001B[43m \u001B[49m\u001B[38;5;241;43m*\u001B[39;49m\u001B[38;5;241;43m*\u001B[39;49m\u001B[43mkwargs\u001B[49m\u001B[43m)\u001B[49m\n\u001B[1;32m    481\u001B[0m \u001B[38;5;28;01mexcept\u001B[39;00m \u001B[38;5;167;01mBaseException\u001B[39;00m:  \u001B[38;5;66;03m# noqa: B902\u001B[39;00m\n",
      "File \u001B[0;32m~/repositories/semeval2025_paperexp/venv/lib/python3.10/site-packages/google/genai/_api_client.py:1103\u001B[0m, in \u001B[0;36mBaseApiClient._request_once\u001B[0;34m(self, http_request, stream)\u001B[0m\n\u001B[1;32m   1096\u001B[0m response \u001B[38;5;241m=\u001B[39m \u001B[38;5;28mself\u001B[39m\u001B[38;5;241m.\u001B[39m_httpx_client\u001B[38;5;241m.\u001B[39mrequest(\n\u001B[1;32m   1097\u001B[0m     method\u001B[38;5;241m=\u001B[39mhttp_request\u001B[38;5;241m.\u001B[39mmethod,\n\u001B[1;32m   1098\u001B[0m     url\u001B[38;5;241m=\u001B[39mhttp_request\u001B[38;5;241m.\u001B[39murl,\n\u001B[0;32m   (...)\u001B[0m\n\u001B[1;32m   1101\u001B[0m     timeout\u001B[38;5;241m=\u001B[39mhttp_request\u001B[38;5;241m.\u001B[39mtimeout,\n\u001B[1;32m   1102\u001B[0m )\n\u001B[0;32m-> 1103\u001B[0m \u001B[43merrors\u001B[49m\u001B[38;5;241;43m.\u001B[39;49m\u001B[43mAPIError\u001B[49m\u001B[38;5;241;43m.\u001B[39;49m\u001B[43mraise_for_response\u001B[49m\u001B[43m(\u001B[49m\u001B[43mresponse\u001B[49m\u001B[43m)\u001B[49m\n\u001B[1;32m   1104\u001B[0m \u001B[38;5;28;01mreturn\u001B[39;00m HttpResponse(\n\u001B[1;32m   1105\u001B[0m     response\u001B[38;5;241m.\u001B[39mheaders, response \u001B[38;5;28;01mif\u001B[39;00m stream \u001B[38;5;28;01melse\u001B[39;00m [response\u001B[38;5;241m.\u001B[39mtext]\n\u001B[1;32m   1106\u001B[0m )\n",
      "File \u001B[0;32m~/repositories/semeval2025_paperexp/venv/lib/python3.10/site-packages/google/genai/errors.py:108\u001B[0m, in \u001B[0;36mAPIError.raise_for_response\u001B[0;34m(cls, response)\u001B[0m\n\u001B[1;32m    107\u001B[0m \u001B[38;5;28;01mif\u001B[39;00m \u001B[38;5;241m400\u001B[39m \u001B[38;5;241m<\u001B[39m\u001B[38;5;241m=\u001B[39m status_code \u001B[38;5;241m<\u001B[39m \u001B[38;5;241m500\u001B[39m:\n\u001B[0;32m--> 108\u001B[0m   \u001B[38;5;28;01mraise\u001B[39;00m ClientError(status_code, response_json, response)\n\u001B[1;32m    109\u001B[0m \u001B[38;5;28;01melif\u001B[39;00m \u001B[38;5;241m500\u001B[39m \u001B[38;5;241m<\u001B[39m\u001B[38;5;241m=\u001B[39m status_code \u001B[38;5;241m<\u001B[39m \u001B[38;5;241m600\u001B[39m:\n",
      "\u001B[0;31mClientError\u001B[0m: 429 RESOURCE_EXHAUSTED. {'error': {'code': 429, 'message': 'You exceeded your current quota, please check your plan and billing details. For more information on this error, head to: https://ai.google.dev/gemini-api/docs/rate-limits.\\n* Quota exceeded for metric: generativelanguage.googleapis.com/generate_content_free_tier_requests, limit: 250\\nPlease retry in 37.731187414s.', 'status': 'RESOURCE_EXHAUSTED', 'details': [{'@type': 'type.googleapis.com/google.rpc.QuotaFailure', 'violations': [{'quotaMetric': 'generativelanguage.googleapis.com/generate_content_free_tier_requests', 'quotaId': 'GenerateRequestsPerDayPerProjectPerModel-FreeTier', 'quotaDimensions': {'model': 'gemini-2.5-flash', 'location': 'global'}, 'quotaValue': '250'}]}, {'@type': 'type.googleapis.com/google.rpc.Help', 'links': [{'description': 'Learn more about Gemini API quotas', 'url': 'https://ai.google.dev/gemini-api/docs/rate-limits'}]}, {'@type': 'type.googleapis.com/google.rpc.RetryInfo', 'retryDelay': '37s'}]}}",
      "\nThe above exception was the direct cause of the following exception:\n",
      "\u001B[0;31mInferenceRuntimeError\u001B[0m                     Traceback (most recent call last)",
      "File \u001B[0;32m~/repositories/semeval2025_paperexp/venv/lib/python3.10/site-packages/langextract/providers/gemini.py:264\u001B[0m, in \u001B[0;36mGeminiLanguageModel.infer\u001B[0;34m(self, batch_prompts, **kwargs)\u001B[0m\n\u001B[1;32m    263\u001B[0m \u001B[38;5;28;01mtry\u001B[39;00m:\n\u001B[0;32m--> 264\u001B[0m   results[index] \u001B[38;5;241m=\u001B[39m \u001B[43mfuture\u001B[49m\u001B[38;5;241;43m.\u001B[39;49m\u001B[43mresult\u001B[49m\u001B[43m(\u001B[49m\u001B[43m)\u001B[49m\n\u001B[1;32m    265\u001B[0m \u001B[38;5;28;01mexcept\u001B[39;00m \u001B[38;5;167;01mException\u001B[39;00m \u001B[38;5;28;01mas\u001B[39;00m e:\n",
      "File \u001B[0;32m/usr/lib/python3.10/concurrent/futures/_base.py:451\u001B[0m, in \u001B[0;36mFuture.result\u001B[0;34m(self, timeout)\u001B[0m\n\u001B[1;32m    450\u001B[0m \u001B[38;5;28;01melif\u001B[39;00m \u001B[38;5;28mself\u001B[39m\u001B[38;5;241m.\u001B[39m_state \u001B[38;5;241m==\u001B[39m FINISHED:\n\u001B[0;32m--> 451\u001B[0m     \u001B[38;5;28;01mreturn\u001B[39;00m \u001B[38;5;28;43mself\u001B[39;49m\u001B[38;5;241;43m.\u001B[39;49m\u001B[43m__get_result\u001B[49m\u001B[43m(\u001B[49m\u001B[43m)\u001B[49m\n\u001B[1;32m    453\u001B[0m \u001B[38;5;28mself\u001B[39m\u001B[38;5;241m.\u001B[39m_condition\u001B[38;5;241m.\u001B[39mwait(timeout)\n",
      "File \u001B[0;32m/usr/lib/python3.10/concurrent/futures/_base.py:403\u001B[0m, in \u001B[0;36mFuture.__get_result\u001B[0;34m(self)\u001B[0m\n\u001B[1;32m    402\u001B[0m \u001B[38;5;28;01mtry\u001B[39;00m:\n\u001B[0;32m--> 403\u001B[0m     \u001B[38;5;28;01mraise\u001B[39;00m \u001B[38;5;28mself\u001B[39m\u001B[38;5;241m.\u001B[39m_exception\n\u001B[1;32m    404\u001B[0m \u001B[38;5;28;01mfinally\u001B[39;00m:\n\u001B[1;32m    405\u001B[0m     \u001B[38;5;66;03m# Break a reference cycle with the exception in self._exception\u001B[39;00m\n",
      "File \u001B[0;32m/usr/lib/python3.10/concurrent/futures/thread.py:58\u001B[0m, in \u001B[0;36m_WorkItem.run\u001B[0;34m(self)\u001B[0m\n\u001B[1;32m     57\u001B[0m \u001B[38;5;28;01mtry\u001B[39;00m:\n\u001B[0;32m---> 58\u001B[0m     result \u001B[38;5;241m=\u001B[39m \u001B[38;5;28;43mself\u001B[39;49m\u001B[38;5;241;43m.\u001B[39;49m\u001B[43mfn\u001B[49m\u001B[43m(\u001B[49m\u001B[38;5;241;43m*\u001B[39;49m\u001B[38;5;28;43mself\u001B[39;49m\u001B[38;5;241;43m.\u001B[39;49m\u001B[43margs\u001B[49m\u001B[43m,\u001B[49m\u001B[43m \u001B[49m\u001B[38;5;241;43m*\u001B[39;49m\u001B[38;5;241;43m*\u001B[39;49m\u001B[38;5;28;43mself\u001B[39;49m\u001B[38;5;241;43m.\u001B[39;49m\u001B[43mkwargs\u001B[49m\u001B[43m)\u001B[49m\n\u001B[1;32m     59\u001B[0m \u001B[38;5;28;01mexcept\u001B[39;00m \u001B[38;5;167;01mBaseException\u001B[39;00m \u001B[38;5;28;01mas\u001B[39;00m exc:\n",
      "File \u001B[0;32m~/repositories/semeval2025_paperexp/venv/lib/python3.10/site-packages/langextract/providers/gemini.py:209\u001B[0m, in \u001B[0;36mGeminiLanguageModel._process_single_prompt\u001B[0;34m(self, prompt, config)\u001B[0m\n\u001B[1;32m    208\u001B[0m \u001B[38;5;28;01mexcept\u001B[39;00m \u001B[38;5;167;01mException\u001B[39;00m \u001B[38;5;28;01mas\u001B[39;00m e:\n\u001B[0;32m--> 209\u001B[0m   \u001B[38;5;28;01mraise\u001B[39;00m exceptions\u001B[38;5;241m.\u001B[39mInferenceRuntimeError(\n\u001B[1;32m    210\u001B[0m       \u001B[38;5;124mf\u001B[39m\u001B[38;5;124m'\u001B[39m\u001B[38;5;124mGemini API error: \u001B[39m\u001B[38;5;132;01m{\u001B[39;00m\u001B[38;5;28mstr\u001B[39m(e)\u001B[38;5;132;01m}\u001B[39;00m\u001B[38;5;124m'\u001B[39m, original\u001B[38;5;241m=\u001B[39me\n\u001B[1;32m    211\u001B[0m   ) \u001B[38;5;28;01mfrom\u001B[39;00m\u001B[38;5;250m \u001B[39m\u001B[38;5;21;01me\u001B[39;00m\n",
      "\u001B[0;31mInferenceRuntimeError\u001B[0m: Gemini API error: 429 RESOURCE_EXHAUSTED. {'error': {'code': 429, 'message': 'You exceeded your current quota, please check your plan and billing details. For more information on this error, head to: https://ai.google.dev/gemini-api/docs/rate-limits.\\n* Quota exceeded for metric: generativelanguage.googleapis.com/generate_content_free_tier_requests, limit: 250\\nPlease retry in 37.731187414s.', 'status': 'RESOURCE_EXHAUSTED', 'details': [{'@type': 'type.googleapis.com/google.rpc.QuotaFailure', 'violations': [{'quotaMetric': 'generativelanguage.googleapis.com/generate_content_free_tier_requests', 'quotaId': 'GenerateRequestsPerDayPerProjectPerModel-FreeTier', 'quotaDimensions': {'model': 'gemini-2.5-flash', 'location': 'global'}, 'quotaValue': '250'}]}, {'@type': 'type.googleapis.com/google.rpc.Help', 'links': [{'description': 'Learn more about Gemini API quotas', 'url': 'https://ai.google.dev/gemini-api/docs/rate-limits'}]}, {'@type': 'type.googleapis.com/google.rpc.RetryInfo', 'retryDelay': '37s'}]}}",
      "\nThe above exception was the direct cause of the following exception:\n",
      "\u001B[0;31mInferenceRuntimeError\u001B[0m                     Traceback (most recent call last)",
      "Cell \u001B[0;32mIn[48], line 8\u001B[0m\n\u001B[1;32m      6\u001B[0m time\u001B[38;5;241m.\u001B[39msleep(random\u001B[38;5;241m.\u001B[39mrandint(\u001B[38;5;241m60\u001B[39m,\u001B[38;5;241m90\u001B[39m))\n\u001B[1;32m      7\u001B[0m \u001B[38;5;28mprint\u001B[39m(\u001B[38;5;124m\"\u001B[39m\u001B[38;5;124mprocessing\u001B[39m\u001B[38;5;124m\"\u001B[39m,entry[\u001B[38;5;124m\"\u001B[39m\u001B[38;5;124mdoc_id\u001B[39m\u001B[38;5;124m\"\u001B[39m])\n\u001B[0;32m----> 8\u001B[0m result\u001B[38;5;241m=\u001B[39m\u001B[43mextract_info_gemini\u001B[49m\u001B[43m(\u001B[49m\u001B[43mentry\u001B[49m\u001B[43m[\u001B[49m\u001B[38;5;124;43m\"\u001B[39;49m\u001B[38;5;124;43mtext\u001B[39;49m\u001B[38;5;124;43m\"\u001B[39;49m\u001B[43m]\u001B[49m\u001B[43m)\u001B[49m\n\u001B[1;32m      9\u001B[0m lx\u001B[38;5;241m.\u001B[39mio\u001B[38;5;241m.\u001B[39msave_annotated_documents([result], output_name\u001B[38;5;241m=\u001B[39m\u001B[38;5;28mstr\u001B[39m(entry[\u001B[38;5;124m\"\u001B[39m\u001B[38;5;124mdoc_id\u001B[39m\u001B[38;5;124m\"\u001B[39m])\u001B[38;5;241m+\u001B[39m\u001B[38;5;124m\"\u001B[39m\u001B[38;5;124m.json\u001B[39m\u001B[38;5;124m\"\u001B[39m, output_dir\u001B[38;5;241m=\u001B[39moutput_folder)\n\u001B[1;32m     10\u001B[0m html_content \u001B[38;5;241m=\u001B[39m lx\u001B[38;5;241m.\u001B[39mvisualize(os\u001B[38;5;241m.\u001B[39mpath\u001B[38;5;241m.\u001B[39mjoin(output_folder,\u001B[38;5;28mstr\u001B[39m(entry[\u001B[38;5;124m\"\u001B[39m\u001B[38;5;124mdoc_id\u001B[39m\u001B[38;5;124m\"\u001B[39m])\u001B[38;5;241m+\u001B[39m\u001B[38;5;124m\"\u001B[39m\u001B[38;5;124m.json\u001B[39m\u001B[38;5;124m\"\u001B[39m))\n",
      "Cell \u001B[0;32mIn[41], line 42\u001B[0m, in \u001B[0;36mextract_info_gemini\u001B[0;34m(input_text)\u001B[0m\n\u001B[1;32m     31\u001B[0m   \u001B[38;5;66;03m# Define example data with entities in order of appearance\u001B[39;00m\n\u001B[1;32m     32\u001B[0m examples \u001B[38;5;241m=\u001B[39m [\n\u001B[1;32m     33\u001B[0m       lx\u001B[38;5;241m.\u001B[39mdata\u001B[38;5;241m.\u001B[39mExampleData(\n\u001B[1;32m     34\u001B[0m           text\u001B[38;5;241m=\u001B[39mexample_text,\n\u001B[0;32m   (...)\u001B[0m\n\u001B[1;32m     40\u001B[0m       )\n\u001B[1;32m     41\u001B[0m ]\n\u001B[0;32m---> 42\u001B[0m result \u001B[38;5;241m=\u001B[39m \u001B[43mlx\u001B[49m\u001B[38;5;241;43m.\u001B[39;49m\u001B[43mextract\u001B[49m\u001B[43m(\u001B[49m\n\u001B[1;32m     43\u001B[0m \u001B[43m    \u001B[49m\u001B[43mtext_or_documents\u001B[49m\u001B[38;5;241;43m=\u001B[39;49m\u001B[43minput_text\u001B[49m\u001B[43m,\u001B[49m\n\u001B[1;32m     44\u001B[0m \u001B[43m    \u001B[49m\u001B[43mprompt_description\u001B[49m\u001B[38;5;241;43m=\u001B[39;49m\u001B[43mprompt_description\u001B[49m\u001B[43m,\u001B[49m\n\u001B[1;32m     45\u001B[0m \u001B[43m    \u001B[49m\u001B[43mexamples\u001B[49m\u001B[38;5;241;43m=\u001B[39;49m\u001B[43mexamples\u001B[49m\u001B[43m,\u001B[49m\n\u001B[1;32m     46\u001B[0m \u001B[43m    \u001B[49m\u001B[43mapi_key\u001B[49m\u001B[38;5;241;43m=\u001B[39;49m\u001B[43mLANGEXTRACT_API_KEY\u001B[49m\u001B[43m,\u001B[49m\n\u001B[1;32m     47\u001B[0m \u001B[43m    \u001B[49m\u001B[43mmodel_id\u001B[49m\u001B[38;5;241;43m=\u001B[39;49m\u001B[38;5;124;43m\"\u001B[39;49m\u001B[38;5;124;43mgemini-2.5-flash\u001B[39;49m\u001B[38;5;124;43m\"\u001B[39;49m\u001B[43m,\u001B[49m\n\u001B[1;32m     48\u001B[0m \u001B[43m\u001B[49m\u001B[43m)\u001B[49m\n\u001B[1;32m     50\u001B[0m \u001B[38;5;28;01mreturn\u001B[39;00m result\n",
      "File \u001B[0;32m~/repositories/semeval2025_paperexp/venv/lib/python3.10/site-packages/langextract/__init__.py:55\u001B[0m, in \u001B[0;36mextract\u001B[0;34m(*args, **kwargs)\u001B[0m\n\u001B[1;32m     53\u001B[0m \u001B[38;5;28;01mdef\u001B[39;00m\u001B[38;5;250m \u001B[39m\u001B[38;5;21mextract\u001B[39m(\u001B[38;5;241m*\u001B[39margs: Any, \u001B[38;5;241m*\u001B[39m\u001B[38;5;241m*\u001B[39mkwargs: Any):\n\u001B[1;32m     54\u001B[0m \u001B[38;5;250m  \u001B[39m\u001B[38;5;124;03m\"\"\"Top-level API: lx.extract(...).\"\"\"\u001B[39;00m\n\u001B[0;32m---> 55\u001B[0m   \u001B[38;5;28;01mreturn\u001B[39;00m \u001B[43mextract_func\u001B[49m\u001B[43m(\u001B[49m\u001B[38;5;241;43m*\u001B[39;49m\u001B[43margs\u001B[49m\u001B[43m,\u001B[49m\u001B[43m \u001B[49m\u001B[38;5;241;43m*\u001B[39;49m\u001B[38;5;241;43m*\u001B[39;49m\u001B[43mkwargs\u001B[49m\u001B[43m)\u001B[49m\n",
      "File \u001B[0;32m~/repositories/semeval2025_paperexp/venv/lib/python3.10/site-packages/langextract/extraction.py:296\u001B[0m, in \u001B[0;36mextract\u001B[0;34m(text_or_documents, prompt_description, examples, model_id, api_key, language_model_type, format_type, max_char_buffer, temperature, fence_output, use_schema_constraints, batch_length, max_workers, additional_context, resolver_params, language_model_params, debug, model_url, extraction_passes, config, model, fetch_urls, prompt_validation_level, prompt_validation_strict)\u001B[0m\n\u001B[1;32m    288\u001B[0m annotator \u001B[38;5;241m=\u001B[39m annotation\u001B[38;5;241m.\u001B[39mAnnotator(\n\u001B[1;32m    289\u001B[0m     language_model\u001B[38;5;241m=\u001B[39mlanguage_model,\n\u001B[1;32m    290\u001B[0m     prompt_template\u001B[38;5;241m=\u001B[39mprompt_template,\n\u001B[1;32m    291\u001B[0m     format_type\u001B[38;5;241m=\u001B[39mformat_type,\n\u001B[1;32m    292\u001B[0m     fence_output\u001B[38;5;241m=\u001B[39mfence_output,\n\u001B[1;32m    293\u001B[0m )\n\u001B[1;32m    295\u001B[0m \u001B[38;5;28;01mif\u001B[39;00m \u001B[38;5;28misinstance\u001B[39m(text_or_documents, \u001B[38;5;28mstr\u001B[39m):\n\u001B[0;32m--> 296\u001B[0m   \u001B[38;5;28;01mreturn\u001B[39;00m \u001B[43mannotator\u001B[49m\u001B[38;5;241;43m.\u001B[39;49m\u001B[43mannotate_text\u001B[49m\u001B[43m(\u001B[49m\n\u001B[1;32m    297\u001B[0m \u001B[43m      \u001B[49m\u001B[43mtext\u001B[49m\u001B[38;5;241;43m=\u001B[39;49m\u001B[43mtext_or_documents\u001B[49m\u001B[43m,\u001B[49m\n\u001B[1;32m    298\u001B[0m \u001B[43m      \u001B[49m\u001B[43mresolver\u001B[49m\u001B[38;5;241;43m=\u001B[39;49m\u001B[43mres\u001B[49m\u001B[43m,\u001B[49m\n\u001B[1;32m    299\u001B[0m \u001B[43m      \u001B[49m\u001B[43mmax_char_buffer\u001B[49m\u001B[38;5;241;43m=\u001B[39;49m\u001B[43mmax_char_buffer\u001B[49m\u001B[43m,\u001B[49m\n\u001B[1;32m    300\u001B[0m \u001B[43m      \u001B[49m\u001B[43mbatch_length\u001B[49m\u001B[38;5;241;43m=\u001B[39;49m\u001B[43mbatch_length\u001B[49m\u001B[43m,\u001B[49m\n\u001B[1;32m    301\u001B[0m \u001B[43m      \u001B[49m\u001B[43madditional_context\u001B[49m\u001B[38;5;241;43m=\u001B[39;49m\u001B[43madditional_context\u001B[49m\u001B[43m,\u001B[49m\n\u001B[1;32m    302\u001B[0m \u001B[43m      \u001B[49m\u001B[43mdebug\u001B[49m\u001B[38;5;241;43m=\u001B[39;49m\u001B[43mdebug\u001B[49m\u001B[43m,\u001B[49m\n\u001B[1;32m    303\u001B[0m \u001B[43m      \u001B[49m\u001B[43mextraction_passes\u001B[49m\u001B[38;5;241;43m=\u001B[39;49m\u001B[43mextraction_passes\u001B[49m\u001B[43m,\u001B[49m\n\u001B[1;32m    304\u001B[0m \u001B[43m      \u001B[49m\u001B[43mmax_workers\u001B[49m\u001B[38;5;241;43m=\u001B[39;49m\u001B[43mmax_workers\u001B[49m\u001B[43m,\u001B[49m\n\u001B[1;32m    305\u001B[0m \u001B[43m  \u001B[49m\u001B[43m)\u001B[49m\n\u001B[1;32m    306\u001B[0m \u001B[38;5;28;01melse\u001B[39;00m:\n\u001B[1;32m    307\u001B[0m   documents \u001B[38;5;241m=\u001B[39m cast(Iterable[data\u001B[38;5;241m.\u001B[39mDocument], text_or_documents)\n",
      "File \u001B[0;32m~/repositories/semeval2025_paperexp/venv/lib/python3.10/site-packages/langextract/annotation.py:506\u001B[0m, in \u001B[0;36mAnnotator.annotate_text\u001B[0;34m(self, text, resolver, max_char_buffer, batch_length, additional_context, debug, extraction_passes, **kwargs)\u001B[0m\n\u001B[1;32m    496\u001B[0m start_time \u001B[38;5;241m=\u001B[39m time\u001B[38;5;241m.\u001B[39mtime() \u001B[38;5;28;01mif\u001B[39;00m debug \u001B[38;5;28;01melse\u001B[39;00m \u001B[38;5;28;01mNone\u001B[39;00m\n\u001B[1;32m    498\u001B[0m documents \u001B[38;5;241m=\u001B[39m [\n\u001B[1;32m    499\u001B[0m     data\u001B[38;5;241m.\u001B[39mDocument(\n\u001B[1;32m    500\u001B[0m         text\u001B[38;5;241m=\u001B[39mtext,\n\u001B[0;32m   (...)\u001B[0m\n\u001B[1;32m    503\u001B[0m     )\n\u001B[1;32m    504\u001B[0m ]\n\u001B[0;32m--> 506\u001B[0m annotations \u001B[38;5;241m=\u001B[39m \u001B[38;5;28;43mlist\u001B[39;49m\u001B[43m(\u001B[49m\n\u001B[1;32m    507\u001B[0m \u001B[43m    \u001B[49m\u001B[38;5;28;43mself\u001B[39;49m\u001B[38;5;241;43m.\u001B[39;49m\u001B[43mannotate_documents\u001B[49m\u001B[43m(\u001B[49m\n\u001B[1;32m    508\u001B[0m \u001B[43m        \u001B[49m\u001B[43mdocuments\u001B[49m\u001B[43m,\u001B[49m\n\u001B[1;32m    509\u001B[0m \u001B[43m        \u001B[49m\u001B[43mresolver\u001B[49m\u001B[43m,\u001B[49m\n\u001B[1;32m    510\u001B[0m \u001B[43m        \u001B[49m\u001B[43mmax_char_buffer\u001B[49m\u001B[43m,\u001B[49m\n\u001B[1;32m    511\u001B[0m \u001B[43m        \u001B[49m\u001B[43mbatch_length\u001B[49m\u001B[43m,\u001B[49m\n\u001B[1;32m    512\u001B[0m \u001B[43m        \u001B[49m\u001B[43mdebug\u001B[49m\u001B[43m,\u001B[49m\n\u001B[1;32m    513\u001B[0m \u001B[43m        \u001B[49m\u001B[43mextraction_passes\u001B[49m\u001B[43m,\u001B[49m\n\u001B[1;32m    514\u001B[0m \u001B[43m        \u001B[49m\u001B[38;5;241;43m*\u001B[39;49m\u001B[38;5;241;43m*\u001B[39;49m\u001B[43mkwargs\u001B[49m\u001B[43m,\u001B[49m\n\u001B[1;32m    515\u001B[0m \u001B[43m    \u001B[49m\u001B[43m)\u001B[49m\n\u001B[1;32m    516\u001B[0m \u001B[43m\u001B[49m\u001B[43m)\u001B[49m\n\u001B[1;32m    517\u001B[0m \u001B[38;5;28;01massert\u001B[39;00m (\n\u001B[1;32m    518\u001B[0m     \u001B[38;5;28mlen\u001B[39m(annotations) \u001B[38;5;241m==\u001B[39m \u001B[38;5;241m1\u001B[39m\n\u001B[1;32m    519\u001B[0m ), \u001B[38;5;124mf\u001B[39m\u001B[38;5;124m\"\u001B[39m\u001B[38;5;124mExpected 1 annotation but got \u001B[39m\u001B[38;5;132;01m{\u001B[39;00m\u001B[38;5;28mlen\u001B[39m(annotations)\u001B[38;5;132;01m}\u001B[39;00m\u001B[38;5;124m annotations.\u001B[39m\u001B[38;5;124m\"\u001B[39m\n\u001B[1;32m    521\u001B[0m \u001B[38;5;28;01mif\u001B[39;00m debug \u001B[38;5;129;01mand\u001B[39;00m annotations[\u001B[38;5;241m0\u001B[39m]\u001B[38;5;241m.\u001B[39mextractions:\n",
      "File \u001B[0;32m~/repositories/semeval2025_paperexp/venv/lib/python3.10/site-packages/langextract/annotation.py:236\u001B[0m, in \u001B[0;36mAnnotator.annotate_documents\u001B[0;34m(self, documents, resolver, max_char_buffer, batch_length, debug, extraction_passes, **kwargs)\u001B[0m\n\u001B[1;32m    206\u001B[0m \u001B[38;5;250m\u001B[39m\u001B[38;5;124;03m\"\"\"Annotates a sequence of documents with NLP extractions.\u001B[39;00m\n\u001B[1;32m    207\u001B[0m \n\u001B[1;32m    208\u001B[0m \u001B[38;5;124;03m  Breaks documents into chunks, processes them into prompts and performs\u001B[39;00m\n\u001B[0;32m   (...)\u001B[0m\n\u001B[1;32m    232\u001B[0m \u001B[38;5;124;03m  ValueError: If there are no scored outputs during inference.\u001B[39;00m\n\u001B[1;32m    233\u001B[0m \u001B[38;5;124;03m\"\"\"\u001B[39;00m\n\u001B[1;32m    235\u001B[0m \u001B[38;5;28;01mif\u001B[39;00m extraction_passes \u001B[38;5;241m==\u001B[39m \u001B[38;5;241m1\u001B[39m:\n\u001B[0;32m--> 236\u001B[0m   \u001B[38;5;28;01myield from\u001B[39;00m \u001B[38;5;28mself\u001B[39m\u001B[38;5;241m.\u001B[39m_annotate_documents_single_pass(\n\u001B[1;32m    237\u001B[0m       documents, resolver, max_char_buffer, batch_length, debug, \u001B[38;5;241m*\u001B[39m\u001B[38;5;241m*\u001B[39mkwargs\n\u001B[1;32m    238\u001B[0m   )\n\u001B[1;32m    239\u001B[0m \u001B[38;5;28;01melse\u001B[39;00m:\n\u001B[1;32m    240\u001B[0m   \u001B[38;5;28;01myield from\u001B[39;00m \u001B[38;5;28mself\u001B[39m\u001B[38;5;241m.\u001B[39m_annotate_documents_sequential_passes(\n\u001B[1;32m    241\u001B[0m       documents,\n\u001B[1;32m    242\u001B[0m       resolver,\n\u001B[0;32m   (...)\u001B[0m\n\u001B[1;32m    247\u001B[0m       \u001B[38;5;241m*\u001B[39m\u001B[38;5;241m*\u001B[39mkwargs,\n\u001B[1;32m    248\u001B[0m   )\n",
      "File \u001B[0;32m~/repositories/semeval2025_paperexp/venv/lib/python3.10/site-packages/langextract/annotation.py:325\u001B[0m, in \u001B[0;36mAnnotator._annotate_documents_single_pass\u001B[0;34m(self, documents, resolver, max_char_buffer, batch_length, debug, **kwargs)\u001B[0m\n\u001B[1;32m    318\u001B[0m     desc \u001B[38;5;241m=\u001B[39m progress\u001B[38;5;241m.\u001B[39mformat_extraction_progress(\n\u001B[1;32m    319\u001B[0m         model_info,\n\u001B[1;32m    320\u001B[0m         current_chars\u001B[38;5;241m=\u001B[39mbatch_size,\n\u001B[1;32m    321\u001B[0m         processed_chars\u001B[38;5;241m=\u001B[39mchars_processed,\n\u001B[1;32m    322\u001B[0m     )\n\u001B[1;32m    323\u001B[0m     progress_bar\u001B[38;5;241m.\u001B[39mset_description(desc)\n\u001B[0;32m--> 325\u001B[0m \u001B[38;5;28;01mfor\u001B[39;00m text_chunk, scored_outputs \u001B[38;5;129;01min\u001B[39;00m \u001B[38;5;28mzip\u001B[39m(batch, batch_scored_outputs):\n\u001B[1;32m    326\u001B[0m   logging\u001B[38;5;241m.\u001B[39mdebug(\u001B[38;5;124m\"\u001B[39m\u001B[38;5;124mProcessing chunk: \u001B[39m\u001B[38;5;132;01m%s\u001B[39;00m\u001B[38;5;124m\"\u001B[39m, text_chunk)\n\u001B[1;32m    327\u001B[0m   \u001B[38;5;28;01mif\u001B[39;00m \u001B[38;5;129;01mnot\u001B[39;00m scored_outputs:\n",
      "File \u001B[0;32m~/repositories/semeval2025_paperexp/venv/lib/python3.10/site-packages/langextract/providers/gemini.py:266\u001B[0m, in \u001B[0;36mGeminiLanguageModel.infer\u001B[0;34m(self, batch_prompts, **kwargs)\u001B[0m\n\u001B[1;32m    264\u001B[0m     results[index] \u001B[38;5;241m=\u001B[39m future\u001B[38;5;241m.\u001B[39mresult()\n\u001B[1;32m    265\u001B[0m   \u001B[38;5;28;01mexcept\u001B[39;00m \u001B[38;5;167;01mException\u001B[39;00m \u001B[38;5;28;01mas\u001B[39;00m e:\n\u001B[0;32m--> 266\u001B[0m     \u001B[38;5;28;01mraise\u001B[39;00m exceptions\u001B[38;5;241m.\u001B[39mInferenceRuntimeError(\n\u001B[1;32m    267\u001B[0m         \u001B[38;5;124mf\u001B[39m\u001B[38;5;124m'\u001B[39m\u001B[38;5;124mParallel inference error: \u001B[39m\u001B[38;5;132;01m{\u001B[39;00m\u001B[38;5;28mstr\u001B[39m(e)\u001B[38;5;132;01m}\u001B[39;00m\u001B[38;5;124m'\u001B[39m, original\u001B[38;5;241m=\u001B[39me\n\u001B[1;32m    268\u001B[0m     ) \u001B[38;5;28;01mfrom\u001B[39;00m\u001B[38;5;250m \u001B[39m\u001B[38;5;21;01me\u001B[39;00m\n\u001B[1;32m    270\u001B[0m \u001B[38;5;28;01mfor\u001B[39;00m result \u001B[38;5;129;01min\u001B[39;00m results:\n\u001B[1;32m    271\u001B[0m   \u001B[38;5;28;01mif\u001B[39;00m result \u001B[38;5;129;01mis\u001B[39;00m \u001B[38;5;28;01mNone\u001B[39;00m:\n",
      "\u001B[0;31mInferenceRuntimeError\u001B[0m: Parallel inference error: Gemini API error: 429 RESOURCE_EXHAUSTED. {'error': {'code': 429, 'message': 'You exceeded your current quota, please check your plan and billing details. For more information on this error, head to: https://ai.google.dev/gemini-api/docs/rate-limits.\\n* Quota exceeded for metric: generativelanguage.googleapis.com/generate_content_free_tier_requests, limit: 250\\nPlease retry in 37.731187414s.', 'status': 'RESOURCE_EXHAUSTED', 'details': [{'@type': 'type.googleapis.com/google.rpc.QuotaFailure', 'violations': [{'quotaMetric': 'generativelanguage.googleapis.com/generate_content_free_tier_requests', 'quotaId': 'GenerateRequestsPerDayPerProjectPerModel-FreeTier', 'quotaDimensions': {'model': 'gemini-2.5-flash', 'location': 'global'}, 'quotaValue': '250'}]}, {'@type': 'type.googleapis.com/google.rpc.Help', 'links': [{'description': 'Learn more about Gemini API quotas', 'url': 'https://ai.google.dev/gemini-api/docs/rate-limits'}]}, {'@type': 'type.googleapis.com/google.rpc.RetryInfo', 'retryDelay': '37s'}]}}"
     ]
    }
   ]
  }
 ],
 "metadata": {
  "kernelspec": {
   "name": "python3",
   "language": "python",
   "display_name": "Python 3 (ipykernel)"
  },
  "language_info": {
   "codemirror_mode": {
    "name": "ipython",
    "version": 3
   },
   "file_extension": ".py",
   "mimetype": "text/x-python",
   "name": "python",
   "nbconvert_exporter": "python",
   "pygments_lexer": "ipython3",
   "version": "3.9.6"
  },
  "colab": {
   "provenance": [
    {
     "file_id": "1Qv97xQo0bXQDcDcI5KeoF6zXlDRpfLe3",
     "timestamp": 1758722201727
    },
    {
     "file_id": "1dzdrhb5XGBt2eYhNfqT7z9sm2m7CpLvF",
     "timestamp": 1758711635968
    },
    {
     "file_id": "https://gist.github.com/Abonia1/48ea45c147d15621b3f4dcc6a6ca2a2f#file-run-ollama-in-colab-ipynb",
     "timestamp": 1755988711381
    }
   ]
  }
 },
 "nbformat": 4,
 "nbformat_minor": 0
}
